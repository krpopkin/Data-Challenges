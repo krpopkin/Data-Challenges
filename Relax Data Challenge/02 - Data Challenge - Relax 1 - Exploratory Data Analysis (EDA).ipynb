{
 "cells": [
  {
   "cell_type": "markdown",
   "metadata": {},
   "source": [
    "# About this notebook \n",
    "\n",
    "#### Objective: Exploratory Data Analysis\n"
   ]
  },
  {
   "cell_type": "markdown",
   "metadata": {},
   "source": [
    "<div class=\"span5 alert alert-success\">\n",
    "<p> <B> This notebook will explore and analyze the two data files provided...  </B>  \n",
    "    \n",
    "1. User table (takehome_users) with data on 12,000 users who signed up for the product over the last two years.  \n",
    "<br>\n",
    "2. Usage Summary table ( \"takehome_user_engagement\" ) that has a row for each day\n",
    "that a user logged into the product.\n",
    "    \n",
    " <br>\n",
    " </p>\n",
    "</div>"
   ]
  },
  {
   "cell_type": "markdown",
   "metadata": {},
   "source": [
    "<div class=\"span5 alert alert-success\">\n",
    "<p> <B> 1. User table ( \"takehome_users\" ) includes the following fields... </B>  \n",
    "<I>name:</I> the user's name  \n",
    "<br>\n",
    "<I>object_id:</I> the user's id\n",
    "<br>\n",
    "<I>email:</I> email address  \n",
    "<br>\n",
    "<I>creation_source:</I> how their account was created. This takes on one\n",
    "of 5 values:  \n",
    "○ PERSONAL_PROJECTS: invited to join another user's personal workspace  \n",
    "○ GUEST_INVITE: invited to an organization as a guest (limited permissions)  \n",
    "○ ORG_INVITE: invited to an organization (as a full member)  \n",
    "○ SIGNUP: signed up via the website  \n",
    "○ SIGNUP_GOOGLE_AUTH: signed up using Google Authentication (using a Google email account for their loginid)  \n",
    "<br>\n",
    "<I>creation_time:</I> when they created their account  \n",
    "<br>\n",
    "<I>last_session_creation_time:</I> unix timestamp of last login    \n",
    "<br>\n",
    "<I>opted_in_to_mailing_list:</I> whether they have opted into receiving marketing emails  \n",
    "<br>\n",
    "<I>enabled_for_marketing_drip:</I> whether they are on the regular marketing email drip  \n",
    "<br>\n",
    "<I>org_id:</I> the organization (group of users) they belong to  \n",
    "<br>\n",
    "<I>invited_by_user_id:</I> which user invited them to join (if applicable).\n",
    " </p>\n",
    "</div>"
   ]
  },
  {
   "cell_type": "markdown",
   "metadata": {},
   "source": [
    "<div class=\"span5 alert alert-success\">\n",
    "<p> <B> 2. Usage Summary ( \"takehome_user_engagement\" ) includes the following fields... </B>  \n",
    "<I>timestamp:</I> the login date/time  \n",
    "<I>user_id:</I> the user's id\n",
    "<br>\n",
    "<I>visitor_id:</I>\n",
    "<br>\n",
    " </p>\n",
    "</div>"
   ]
  },
  {
   "cell_type": "code",
   "execution_count": 25,
   "metadata": {},
   "outputs": [
    {
     "name": "stdout",
     "output_type": "stream",
     "text": [
      "C:\\Users\\Ken\\Documents\\KenP\\Applications-DataScience\\SpringboardCourseWork\\Data-Challenges\\Relax Data Challenge\n"
     ]
    }
   ],
   "source": [
    "import warnings\n",
    "warnings.filterwarnings('ignore')\n",
    "\n",
    "%cd C:\\Users\\Ken\\Documents\\KenP\\Applications-DataScience\\SpringboardCourseWork\\Data-Challenges\\Relax Data Challenge"
   ]
  },
  {
   "cell_type": "markdown",
   "metadata": {},
   "source": [
    "<div class=\"span5 alert alert-info\">\n",
    "<p> <B>  Imports and Data Loading: </B>  </p>\n",
    "</div>"
   ]
  },
  {
   "cell_type": "code",
   "execution_count": 26,
   "metadata": {},
   "outputs": [],
   "source": [
    "#Imports\n",
    "import pandas as pd\n",
    "from pandas.plotting import scatter_matrix\n",
    "import numpy as np\n",
    "import matplotlib.pyplot as plt\n",
    "from datetime import datetime"
   ]
  },
  {
   "cell_type": "code",
   "execution_count": 27,
   "metadata": {},
   "outputs": [
    {
     "data": {
      "text/html": [
       "<div>\n",
       "<style scoped>\n",
       "    .dataframe tbody tr th:only-of-type {\n",
       "        vertical-align: middle;\n",
       "    }\n",
       "\n",
       "    .dataframe tbody tr th {\n",
       "        vertical-align: top;\n",
       "    }\n",
       "\n",
       "    .dataframe thead th {\n",
       "        text-align: right;\n",
       "    }\n",
       "</style>\n",
       "<table border=\"1\" class=\"dataframe\">\n",
       "  <thead>\n",
       "    <tr style=\"text-align: right;\">\n",
       "      <th></th>\n",
       "      <th>object_id</th>\n",
       "      <th>creation_time</th>\n",
       "      <th>name</th>\n",
       "      <th>email</th>\n",
       "      <th>creation_source</th>\n",
       "      <th>last_session_creation_time</th>\n",
       "      <th>opted_in_to_mailing_list</th>\n",
       "      <th>enabled_for_marketing_drip</th>\n",
       "      <th>org_id</th>\n",
       "      <th>invited_by_user_id</th>\n",
       "    </tr>\n",
       "  </thead>\n",
       "  <tbody>\n",
       "    <tr>\n",
       "      <th>0</th>\n",
       "      <td>1</td>\n",
       "      <td>4/22/2014 3:53</td>\n",
       "      <td>Clausen August</td>\n",
       "      <td>AugustCClausen@yahoo.com</td>\n",
       "      <td>GUEST_INVITE</td>\n",
       "      <td>1.398139e+09</td>\n",
       "      <td>1</td>\n",
       "      <td>0</td>\n",
       "      <td>11</td>\n",
       "      <td>10803.0</td>\n",
       "    </tr>\n",
       "  </tbody>\n",
       "</table>\n",
       "</div>"
      ],
      "text/plain": [
       "   object_id   creation_time            name                     email  \\\n",
       "0          1  4/22/2014 3:53  Clausen August  AugustCClausen@yahoo.com   \n",
       "\n",
       "  creation_source  last_session_creation_time  opted_in_to_mailing_list  \\\n",
       "0    GUEST_INVITE                1.398139e+09                         1   \n",
       "\n",
       "   enabled_for_marketing_drip  org_id  invited_by_user_id  \n",
       "0                           0      11             10803.0  "
      ]
     },
     "execution_count": 27,
     "metadata": {},
     "output_type": "execute_result"
    }
   ],
   "source": [
    "#Import the take_home users file\n",
    "dfu = pd.read_csv('takehome_users.csv', encoding = \"ISO-8859-1\")\n",
    "dfu.head(1)"
   ]
  },
  {
   "cell_type": "code",
   "execution_count": 28,
   "metadata": {},
   "outputs": [],
   "source": [
    "#Import the user engagement file\n",
    "dfue = pd.read_csv('takehome_user_engagement.csv', encoding = \"ISO-8859-1\")"
   ]
  },
  {
   "cell_type": "code",
   "execution_count": 29,
   "metadata": {},
   "outputs": [
    {
     "data": {
      "text/html": [
       "<div>\n",
       "<style scoped>\n",
       "    .dataframe tbody tr th:only-of-type {\n",
       "        vertical-align: middle;\n",
       "    }\n",
       "\n",
       "    .dataframe tbody tr th {\n",
       "        vertical-align: top;\n",
       "    }\n",
       "\n",
       "    .dataframe thead th {\n",
       "        text-align: right;\n",
       "    }\n",
       "</style>\n",
       "<table border=\"1\" class=\"dataframe\">\n",
       "  <thead>\n",
       "    <tr style=\"text-align: right;\">\n",
       "      <th></th>\n",
       "      <th>user_id</th>\n",
       "      <th>datestamp</th>\n",
       "    </tr>\n",
       "  </thead>\n",
       "  <tbody>\n",
       "    <tr>\n",
       "      <th>0</th>\n",
       "      <td>1</td>\n",
       "      <td>2014-04-22</td>\n",
       "    </tr>\n",
       "  </tbody>\n",
       "</table>\n",
       "</div>"
      ],
      "text/plain": [
       "   user_id   datestamp\n",
       "0        1  2014-04-22"
      ]
     },
     "execution_count": 29,
     "metadata": {},
     "output_type": "execute_result"
    }
   ],
   "source": [
    "#Identify is a user is adopted (logged in at least 3 times in any 7 day period) or not adopted\n",
    "dfue['datetimestamp'] =  pd.to_datetime(dfue['time_stamp'])\n",
    "dfue['datestamp'] = dfue['datetimestamp'].dt.date\n",
    "dfue = dfue.drop(['time_stamp','visited','datetimestamp'],axis=1)\n",
    "\n",
    "dfue = dfue.sort_values(['user_id', 'datestamp']).drop_duplicates()\n",
    "\n",
    "dfue.head(1)"
   ]
  },
  {
   "cell_type": "markdown",
   "metadata": {},
   "source": [
    "<div class=\"span5 alert alert-info\">\n",
    "<p> <B>  Missing Data: </B>   \n",
    "\n",
    "</p>\n",
    "</div>"
   ]
  },
  {
   "cell_type": "code",
   "execution_count": 30,
   "metadata": {},
   "outputs": [
    {
     "data": {
      "text/html": [
       "<div>\n",
       "<style scoped>\n",
       "    .dataframe tbody tr th:only-of-type {\n",
       "        vertical-align: middle;\n",
       "    }\n",
       "\n",
       "    .dataframe tbody tr th {\n",
       "        vertical-align: top;\n",
       "    }\n",
       "\n",
       "    .dataframe thead th {\n",
       "        text-align: right;\n",
       "    }\n",
       "</style>\n",
       "<table border=\"1\" class=\"dataframe\">\n",
       "  <thead>\n",
       "    <tr style=\"text-align: right;\">\n",
       "      <th></th>\n",
       "      <th>user_id</th>\n",
       "      <th>datestamp</th>\n",
       "    </tr>\n",
       "  </thead>\n",
       "  <tbody>\n",
       "    <tr>\n",
       "      <th>% Missing Values</th>\n",
       "      <td>0.0</td>\n",
       "      <td>0.0</td>\n",
       "    </tr>\n",
       "  </tbody>\n",
       "</table>\n",
       "</div>"
      ],
      "text/plain": [
       "                  user_id  datestamp\n",
       "% Missing Values      0.0        0.0"
      ]
     },
     "execution_count": 30,
     "metadata": {},
     "output_type": "execute_result"
    }
   ],
   "source": [
    "# Percentage of missing values in each column\n",
    "pd.DataFrame(\n",
    "    dfue.isnull().sum() / len(dfue),\n",
    "    columns=['% Missing Values']\n",
    ").transpose()"
   ]
  },
  {
   "cell_type": "markdown",
   "metadata": {},
   "source": [
    "<div class=\"span5 alert alert-info\">\n",
    "<p> <B>  Identify adopted users (0 = not adopted, 1 = adopted): </B>   \n",
    "\n",
    "</p>\n",
    "</div>"
   ]
  },
  {
   "cell_type": "code",
   "execution_count": 31,
   "metadata": {},
   "outputs": [],
   "source": [
    "#function for list of three dates\n",
    "def threeentries(inlist):\n",
    "    result = 0\n",
    "    \n",
    "    datediff = inlist[2] - inlist[0]\n",
    "    \n",
    "    if datediff.days < 8:\n",
    "        result = 1\n",
    "    \n",
    "    return result"
   ]
  },
  {
   "cell_type": "code",
   "execution_count": 32,
   "metadata": {},
   "outputs": [],
   "source": [
    "#function for list with many entries (more than three)\n",
    "def manyentries(inlist):\n",
    "    result = 0\n",
    "    \n",
    "    entry = 2\n",
    "    \n",
    "    while (entry < len(inlist) and result == 0) :\n",
    "        datediff = inlist[entry] - inlist[entry - 2]\n",
    "        \n",
    "        if datediff.days < 8:\n",
    "            result = 1\n",
    "        \n",
    "        entry = entry + 1\n",
    "    \n",
    "    return result"
   ]
  },
  {
   "cell_type": "code",
   "execution_count": 33,
   "metadata": {},
   "outputs": [],
   "source": [
    "#functions to decide if user is adopted (logged in at least 3 times in a 7 day period)\n",
    "def isadopted(input):    \n",
    "    inlist = list(input)   \n",
    "    listentriescount = 0\n",
    "    adoptionstatus = 0\n",
    "    \n",
    "    #count entries in list\n",
    "    for i, d in enumerate(inlist):\n",
    "        listentriescount = listentriescount + 1\n",
    "    \n",
    "    #determine if adopted\n",
    "    if listentriescount < 3:\n",
    "        adoptionstatus = 0\n",
    "        \n",
    "    elif listentriescount == 3:\n",
    "         adoptionstatus = threeentries(inlist)\n",
    "        \n",
    "    else:\n",
    "         adoptionstatus = manyentries(inlist)\n",
    "    \n",
    "    return adoptionstatus"
   ]
  },
  {
   "cell_type": "code",
   "execution_count": 34,
   "metadata": {},
   "outputs": [
    {
     "data": {
      "text/html": [
       "<div>\n",
       "<style scoped>\n",
       "    .dataframe tbody tr th:only-of-type {\n",
       "        vertical-align: middle;\n",
       "    }\n",
       "\n",
       "    .dataframe tbody tr th {\n",
       "        vertical-align: top;\n",
       "    }\n",
       "\n",
       "    .dataframe thead th {\n",
       "        text-align: right;\n",
       "    }\n",
       "</style>\n",
       "<table border=\"1\" class=\"dataframe\">\n",
       "  <thead>\n",
       "    <tr style=\"text-align: right;\">\n",
       "      <th></th>\n",
       "      <th>userid</th>\n",
       "      <th>adoptionstatus</th>\n",
       "    </tr>\n",
       "  </thead>\n",
       "  <tbody>\n",
       "    <tr>\n",
       "      <th>0</th>\n",
       "      <td>1</td>\n",
       "      <td>0</td>\n",
       "    </tr>\n",
       "  </tbody>\n",
       "</table>\n",
       "</div>"
      ],
      "text/plain": [
       "   userid  adoptionstatus\n",
       "0       1               0"
      ]
     },
     "execution_count": 34,
     "metadata": {},
     "output_type": "execute_result"
    }
   ],
   "source": [
    "#Group by userid, collapse the datestamps for each userid into a list, and determine if user is or isn't adopted\n",
    "dfue2 = pd.DataFrame(dfue.groupby('user_id')['datestamp'].apply(lambda x:isadopted(x)))\n",
    "dfue2 = dfue2.reset_index()\n",
    "dfue2.columns = ['userid','adoptionstatus']\n",
    "dfue2.head(1)"
   ]
  },
  {
   "cell_type": "markdown",
   "metadata": {},
   "source": [
    "<div class=\"span5 alert alert-info\">\n",
    "<p> <B>  Add \"Adopted Status\" to Take_Home_Users file </B>  </p>\n",
    "</div>"
   ]
  },
  {
   "cell_type": "code",
   "execution_count": 35,
   "metadata": {},
   "outputs": [],
   "source": [
    "#concatenate dfu (users file) with dfue2 (adoption status)\n",
    "dfu3 = dfu.set_index('object_id')\n",
    "\n",
    "dfue2.columns = ('object_id','adoptionstatus')\n",
    "dfue3 = dfue2.set_index('object_id')\n",
    "\n",
    "m = pd.concat([dfu3, dfue3], axis=1)"
   ]
  },
  {
   "cell_type": "code",
   "execution_count": 36,
   "metadata": {},
   "outputs": [
    {
     "data": {
      "text/html": [
       "<div>\n",
       "<style scoped>\n",
       "    .dataframe tbody tr th:only-of-type {\n",
       "        vertical-align: middle;\n",
       "    }\n",
       "\n",
       "    .dataframe tbody tr th {\n",
       "        vertical-align: top;\n",
       "    }\n",
       "\n",
       "    .dataframe thead th {\n",
       "        text-align: right;\n",
       "    }\n",
       "</style>\n",
       "<table border=\"1\" class=\"dataframe\">\n",
       "  <thead>\n",
       "    <tr style=\"text-align: right;\">\n",
       "      <th></th>\n",
       "      <th>creation_time</th>\n",
       "      <th>name</th>\n",
       "      <th>email</th>\n",
       "      <th>creation_source</th>\n",
       "      <th>last_session_creation_time</th>\n",
       "      <th>opted_in_to_mailing_list</th>\n",
       "      <th>enabled_for_marketing_drip</th>\n",
       "      <th>org_id</th>\n",
       "      <th>invited_by_user_id</th>\n",
       "      <th>adoptionstatus</th>\n",
       "    </tr>\n",
       "    <tr>\n",
       "      <th>object_id</th>\n",
       "      <th></th>\n",
       "      <th></th>\n",
       "      <th></th>\n",
       "      <th></th>\n",
       "      <th></th>\n",
       "      <th></th>\n",
       "      <th></th>\n",
       "      <th></th>\n",
       "      <th></th>\n",
       "      <th></th>\n",
       "    </tr>\n",
       "  </thead>\n",
       "  <tbody>\n",
       "    <tr>\n",
       "      <th>1</th>\n",
       "      <td>4/22/2014 3:53</td>\n",
       "      <td>Clausen August</td>\n",
       "      <td>AugustCClausen@yahoo.com</td>\n",
       "      <td>GUEST_INVITE</td>\n",
       "      <td>1.398139e+09</td>\n",
       "      <td>1</td>\n",
       "      <td>0</td>\n",
       "      <td>11</td>\n",
       "      <td>10803.0</td>\n",
       "      <td>0.0</td>\n",
       "    </tr>\n",
       "  </tbody>\n",
       "</table>\n",
       "</div>"
      ],
      "text/plain": [
       "            creation_time            name                     email  \\\n",
       "object_id                                                             \n",
       "1          4/22/2014 3:53  Clausen August  AugustCClausen@yahoo.com   \n",
       "\n",
       "          creation_source  last_session_creation_time  \\\n",
       "object_id                                               \n",
       "1            GUEST_INVITE                1.398139e+09   \n",
       "\n",
       "           opted_in_to_mailing_list  enabled_for_marketing_drip  org_id  \\\n",
       "object_id                                                                 \n",
       "1                                 1                           0      11   \n",
       "\n",
       "           invited_by_user_id  adoptionstatus  \n",
       "object_id                                      \n",
       "1                     10803.0             0.0  "
      ]
     },
     "execution_count": 36,
     "metadata": {},
     "output_type": "execute_result"
    }
   ],
   "source": [
    "#Some users have never logged in (user engagement file has no entry).  Set these users to not adopted\n",
    "m['adoptionstatus'].fillna(0, inplace=True)\n",
    "m.head(1)"
   ]
  },
  {
   "cell_type": "code",
   "execution_count": 37,
   "metadata": {},
   "outputs": [],
   "source": [
    "##Export to csv\n",
    "out_csv = 'mergeresults.csv'\n",
    "m.to_csv(out_csv)"
   ]
  },
  {
   "cell_type": "markdown",
   "metadata": {},
   "source": [
    "<div class=\"span5 alert alert-info\">\n",
    "<p> <B>  Exploratory Data Analysis </B>  </p>\n",
    "</div>"
   ]
  },
  {
   "cell_type": "markdown",
   "metadata": {},
   "source": [
    "<div class=\"span5 alert alert-success\">\n",
    "<p> Dataframe of columns of interest\n",
    " </p>\n",
    "</div>"
   ]
  },
  {
   "cell_type": "code",
   "execution_count": 38,
   "metadata": {},
   "outputs": [],
   "source": [
    "#Create InvitedByUser column as true or false\n",
    "inviteduserlist = []\n",
    "\n",
    "for x in m.invited_by_user_id:\n",
    "    if x > 0:\n",
    "        inviteduserlist.append(1)\n",
    "    else:\n",
    "        inviteduserlist.append(0)\n",
    "\n",
    "m['invitedbyuser'] = inviteduserlist"
   ]
  },
  {
   "cell_type": "code",
   "execution_count": 39,
   "metadata": {},
   "outputs": [
    {
     "data": {
      "text/html": [
       "<div>\n",
       "<style scoped>\n",
       "    .dataframe tbody tr th:only-of-type {\n",
       "        vertical-align: middle;\n",
       "    }\n",
       "\n",
       "    .dataframe tbody tr th {\n",
       "        vertical-align: top;\n",
       "    }\n",
       "\n",
       "    .dataframe thead th {\n",
       "        text-align: right;\n",
       "    }\n",
       "</style>\n",
       "<table border=\"1\" class=\"dataframe\">\n",
       "  <thead>\n",
       "    <tr style=\"text-align: right;\">\n",
       "      <th></th>\n",
       "      <th>object_id</th>\n",
       "      <th>creation_source</th>\n",
       "      <th>opted_in_to_mailing_list</th>\n",
       "      <th>enabled_for_marketing_drip</th>\n",
       "      <th>invitedbyuser</th>\n",
       "      <th>adoptionstatus</th>\n",
       "    </tr>\n",
       "  </thead>\n",
       "  <tbody>\n",
       "    <tr>\n",
       "      <th>0</th>\n",
       "      <td>1</td>\n",
       "      <td>GUEST_INVITE</td>\n",
       "      <td>1</td>\n",
       "      <td>0</td>\n",
       "      <td>1</td>\n",
       "      <td>0.0</td>\n",
       "    </tr>\n",
       "  </tbody>\n",
       "</table>\n",
       "</div>"
      ],
      "text/plain": [
       "   object_id creation_source  opted_in_to_mailing_list  \\\n",
       "0          1    GUEST_INVITE                         1   \n",
       "\n",
       "   enabled_for_marketing_drip  invitedbyuser  adoptionstatus  \n",
       "0                           0              1             0.0  "
      ]
     },
     "execution_count": 39,
     "metadata": {},
     "output_type": "execute_result"
    }
   ],
   "source": [
    "#Create dataframe of columns of interest\n",
    "dfi = m[['creation_source','opted_in_to_mailing_list','enabled_for_marketing_drip','invitedbyuser','adoptionstatus']].reset_index()\n",
    "dfi.head(1)"
   ]
  },
  {
   "cell_type": "markdown",
   "metadata": {},
   "source": [
    "<div class=\"span5 alert alert-success\">\n",
    "<p> Adopted Users\n",
    " </p>\n",
    "</div>"
   ]
  },
  {
   "cell_type": "code",
   "execution_count": 40,
   "metadata": {},
   "outputs": [
    {
     "data": {
      "text/html": [
       "<div>\n",
       "<style scoped>\n",
       "    .dataframe tbody tr th:only-of-type {\n",
       "        vertical-align: middle;\n",
       "    }\n",
       "\n",
       "    .dataframe tbody tr th {\n",
       "        vertical-align: top;\n",
       "    }\n",
       "\n",
       "    .dataframe thead th {\n",
       "        text-align: right;\n",
       "    }\n",
       "</style>\n",
       "<table border=\"1\" class=\"dataframe\">\n",
       "  <thead>\n",
       "    <tr style=\"text-align: right;\">\n",
       "      <th></th>\n",
       "      <th>type</th>\n",
       "      <th>count</th>\n",
       "    </tr>\n",
       "  </thead>\n",
       "  <tbody>\n",
       "    <tr>\n",
       "      <th>0</th>\n",
       "      <td>0.0</td>\n",
       "      <td>10344</td>\n",
       "    </tr>\n",
       "    <tr>\n",
       "      <th>1</th>\n",
       "      <td>1.0</td>\n",
       "      <td>1656</td>\n",
       "    </tr>\n",
       "  </tbody>\n",
       "</table>\n",
       "</div>"
      ],
      "text/plain": [
       "   type  count\n",
       "0   0.0  10344\n",
       "1   1.0   1656"
      ]
     },
     "execution_count": 40,
     "metadata": {},
     "output_type": "execute_result"
    }
   ],
   "source": [
    "#Count the number of adopted users\n",
    "dfc = dfi[['adoptionstatus']]\n",
    "dfc = dfc.reset_index()\n",
    "\n",
    "dfc2 = dfc.groupby('adoptionstatus').count()\n",
    "dfc2 = dfc2.reset_index()\n",
    "dfc2.columns = ('type','count')\n",
    "dfc2"
   ]
  },
  {
   "cell_type": "code",
   "execution_count": 41,
   "metadata": {},
   "outputs": [
    {
     "name": "stdout",
     "output_type": "stream",
     "text": [
      "percent adopted: <bound method Series.count of type     1.000\n",
      "count    0.138\n",
      "dtype: float64>\n"
     ]
    }
   ],
   "source": [
    "#percent adopted\n",
    "percentadopted = dfc2.iloc[1]/(dfc2.iloc[1] + dfc2.iloc[0])\n",
    "print('percent adopted: ' + str(percentadopted.count))"
   ]
  },
  {
   "cell_type": "code",
   "execution_count": 42,
   "metadata": {},
   "outputs": [
    {
     "data": {
      "image/png": "[encoded data removed]",
      "text/plain": [
       "<Figure size 216x144 with 1 Axes>"
      ]
     },
     "metadata": {},
     "output_type": "display_data"
    }
   ],
   "source": [
    "#bar plot of adopted users\n",
    "dfadoptionbarplot = dfc2[['count']]\n",
    "\n",
    "ax = dfadoptionbarplot.plot(kind='bar', title =\"Adopted vs Not Adopted\", figsize=(3, 2), legend=True, fontsize=12, rot=0)\n",
    "\n",
    "x_labels = ['Not adopted', 'Adopted']\n",
    "ax.set_xticklabels(x_labels)\n",
    "plt.show()"
   ]
  },
  {
   "cell_type": "markdown",
   "metadata": {},
   "source": [
    "<div class=\"span5 alert alert-success\">\n",
    "<p> Creation Source\n",
    " </p>\n",
    "</div>"
   ]
  },
  {
   "cell_type": "code",
   "execution_count": 43,
   "metadata": {},
   "outputs": [
    {
     "data": {
      "image/png": "[encoded data removed]",
      "text/plain": [
       "<Figure size 360x360 with 1 Axes>"
      ]
     },
     "metadata": {},
     "output_type": "display_data"
    }
   ],
   "source": [
    "#Bar chart of Creation Source breakout for all users\n",
    "dfcs = dfi[['creation_source','adoptionstatus']]\n",
    "dfcs = dfcs.groupby('creation_source').agg('count')\n",
    "dfcs['labels'] = ['Guest', 'Org','Personal', 'Signup', 'Google']\n",
    "dfcs = dfcs.set_index('labels')\n",
    "\n",
    "dfcs.head()\n",
    "ax = dfcs.plot(kind='bar', title =\"Creation Source for All Users\", figsize=(5, 5), legend=True, fontsize=12, rot=0)\n",
    "plt.show()"
   ]
  },
  {
   "cell_type": "code",
   "execution_count": 44,
   "metadata": {},
   "outputs": [
    {
     "data": {
      "image/png": "[encoded data removed]",
      "text/plain": [
       "<Figure size 360x360 with 1 Axes>"
      ]
     },
     "metadata": {},
     "output_type": "display_data"
    }
   ],
   "source": [
    "#Bar chart of Creation Source breakout for adopted users\n",
    "dfcs = dfi[['creation_source','adoptionstatus']]\n",
    "dfcs = dfcs[dfcs.adoptionstatus == 1]\n",
    "dfcs = dfcs.groupby('creation_source').agg('count')\n",
    "dfcs['labels'] = ['Guest', 'Org','Personal', 'Signup', 'Google']\n",
    "dfcs = dfcs.set_index('labels')\n",
    "\n",
    "dfcs.head()\n",
    "ax = dfcs.plot(kind='bar', title =\"Creation Source for Adopted Users\", figsize=(5, 5), legend=True, fontsize=12, rot=0)\n",
    "plt.show()"
   ]
  },
  {
   "cell_type": "markdown",
   "metadata": {},
   "source": [
    "<div class=\"span5 alert alert-success\">\n",
    "<p> Invited by User\n",
    " </p>\n",
    "</div>"
   ]
  },
  {
   "cell_type": "code",
   "execution_count": 45,
   "metadata": {},
   "outputs": [
    {
     "data": {
      "text/html": [
       "<div>\n",
       "<style scoped>\n",
       "    .dataframe tbody tr th:only-of-type {\n",
       "        vertical-align: middle;\n",
       "    }\n",
       "\n",
       "    .dataframe tbody tr th {\n",
       "        vertical-align: top;\n",
       "    }\n",
       "\n",
       "    .dataframe thead th {\n",
       "        text-align: right;\n",
       "    }\n",
       "</style>\n",
       "<table border=\"1\" class=\"dataframe\">\n",
       "  <thead>\n",
       "    <tr style=\"text-align: right;\">\n",
       "      <th></th>\n",
       "      <th>count</th>\n",
       "    </tr>\n",
       "    <tr>\n",
       "      <th>invitedbyuser</th>\n",
       "      <th></th>\n",
       "    </tr>\n",
       "  </thead>\n",
       "  <tbody>\n",
       "    <tr>\n",
       "      <th>0</th>\n",
       "      <td>5583</td>\n",
       "    </tr>\n",
       "    <tr>\n",
       "      <th>1</th>\n",
       "      <td>6417</td>\n",
       "    </tr>\n",
       "  </tbody>\n",
       "</table>\n",
       "</div>"
      ],
      "text/plain": [
       "               count\n",
       "invitedbyuser       \n",
       "0               5583\n",
       "1               6417"
      ]
     },
     "execution_count": 45,
     "metadata": {},
     "output_type": "execute_result"
    }
   ],
   "source": [
    "#number of users that were invited by another user\n",
    "dfcs = dfi[['invitedbyuser','adoptionstatus']]\n",
    "\n",
    "dfibu = dfcs.groupby('invitedbyuser').agg('count')\n",
    "dfibu = dfibu.rename({'adoptionstatus':'count'},axis=1)\n",
    "dfibu.head()"
   ]
  },
  {
   "cell_type": "code",
   "execution_count": 46,
   "metadata": {},
   "outputs": [
    {
     "data": {
      "text/html": [
       "<div>\n",
       "<style scoped>\n",
       "    .dataframe tbody tr th:only-of-type {\n",
       "        vertical-align: middle;\n",
       "    }\n",
       "\n",
       "    .dataframe tbody tr th {\n",
       "        vertical-align: top;\n",
       "    }\n",
       "\n",
       "    .dataframe thead th {\n",
       "        text-align: right;\n",
       "    }\n",
       "</style>\n",
       "<table border=\"1\" class=\"dataframe\">\n",
       "  <thead>\n",
       "    <tr style=\"text-align: right;\">\n",
       "      <th></th>\n",
       "      <th>count</th>\n",
       "    </tr>\n",
       "    <tr>\n",
       "      <th>invitedbyuser</th>\n",
       "      <th></th>\n",
       "    </tr>\n",
       "  </thead>\n",
       "  <tbody>\n",
       "    <tr>\n",
       "      <th>0</th>\n",
       "      <td>713</td>\n",
       "    </tr>\n",
       "    <tr>\n",
       "      <th>1</th>\n",
       "      <td>943</td>\n",
       "    </tr>\n",
       "  </tbody>\n",
       "</table>\n",
       "</div>"
      ],
      "text/plain": [
       "               count\n",
       "invitedbyuser       \n",
       "0                713\n",
       "1                943"
      ]
     },
     "execution_count": 46,
     "metadata": {},
     "output_type": "execute_result"
    }
   ],
   "source": [
    "#number of adopted users that were invited by another user\n",
    "dfcs = dfi[['invitedbyuser','adoptionstatus']]\n",
    "dfcs = dfcs[dfcs.adoptionstatus == 1]\n",
    "dfibu = dfcs.groupby('invitedbyuser').agg('count')\n",
    "dfibu = dfibu.rename({'adoptionstatus':'count'},axis=1)\n",
    "dfibu.head()"
   ]
  },
  {
   "cell_type": "markdown",
   "metadata": {},
   "source": [
    "<div class=\"span5 alert alert-success\">\n",
    "<p> Correlation Matrix\n",
    " </p>\n",
    "</div>"
   ]
  },
  {
   "cell_type": "code",
   "execution_count": 47,
   "metadata": {},
   "outputs": [
    {
     "data": {
      "image/png": "[encoded data removed]",
      "text/plain": [
       "<Figure size 648x648 with 2 Axes>"
      ]
     },
     "metadata": {},
     "output_type": "display_data"
    }
   ],
   "source": [
    "#derive correlations among the variables of interest\n",
    "featurenames = ['creation_source','on_mailing_list','on_marketing_drip','invited','adoptionstatus']\n",
    "\n",
    "correlations = dfi.corr()\n",
    "\n",
    "fig = plt.figure(figsize=(9,9))\n",
    "ax = fig.add_subplot(111)\n",
    "cax = ax.matshow(correlations,vmin=-1, vmax=1)\n",
    "fig.colorbar(cax)\n",
    "ticks=np.arange(0,5,1)\n",
    "ax.set_xticks(ticks)\n",
    "ax.set_yticks(ticks)\n",
    "ax.set_xticklabels(featurenames)\n",
    "ax.set_yticklabels(featurenames)\n",
    "plt.show()"
   ]
  }
 ],
 "metadata": {
  "kernelspec": {
   "display_name": "Python 3",
   "language": "python",
   "name": "python3"
  },
  "language_info": {
   "codemirror_mode": {
    "name": "ipython",
    "version": 3
   },
   "file_extension": ".py",
   "mimetype": "text/x-python",
   "name": "python",
   "nbconvert_exporter": "python",
   "pygments_lexer": "ipython3",
   "version": "3.6.5"
  }
 },
 "nbformat": 4,
 "nbformat_minor": 2
}
